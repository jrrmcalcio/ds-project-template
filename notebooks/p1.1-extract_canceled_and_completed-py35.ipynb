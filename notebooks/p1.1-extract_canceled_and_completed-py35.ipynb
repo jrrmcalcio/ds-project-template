{
 "cells": [
  {
   "cell_type": "markdown",
   "metadata": {},
   "source": [
    "# Notebook for BigQuery extraction\n",
    "\n",
    "### All data will be restricted only to **domestic, NNA and CC**\n",
    "\n",
    "---\n",
    "### Notebook configuration"
   ]
  },
  {
   "cell_type": "code",
   "execution_count": 2,
   "metadata": {
    "execution": {
     "iopub.execute_input": "2022-06-27T22:20:03.167667Z",
     "iopub.status.busy": "2022-06-27T22:20:03.166993Z",
     "iopub.status.idle": "2022-06-27T22:20:03.268061Z",
     "shell.execute_reply": "2022-06-27T22:20:03.267000Z",
     "shell.execute_reply.started": "2022-06-27T22:20:03.167585Z"
    }
   },
   "outputs": [],
   "source": [
    "%reload_ext cloudmagics.bigquery\n",
    "%config PPMagics.autolimit=0\n",
    "%config PPMagics.domain=\"ccg24-hrzana-gfr-interactive\""
   ]
  },
  {
   "cell_type": "code",
   "execution_count": 3,
   "metadata": {
    "execution": {
     "iopub.execute_input": "2022-06-27T22:20:03.269809Z",
     "iopub.status.busy": "2022-06-27T22:20:03.269393Z",
     "iopub.status.idle": "2022-06-27T22:20:03.461280Z",
     "shell.execute_reply": "2022-06-27T22:20:03.460323Z",
     "shell.execute_reply.started": "2022-06-27T22:20:03.269770Z"
    }
   },
   "outputs": [],
   "source": [
    "%load_ext autoreload\n",
    "%autoreload 2\n",
    "\n",
    "import re\n",
    "import os\n",
    "import sys\n",
    "import warnings\n",
    "import numpy as np\n",
    "import pandas as pd\n",
    "\n",
    "#user defined imports\n",
    "sys.path.insert(0, os.path.dirname(os.path.realpath(\"__file__\")) + \"/../src\")\n",
    "import process as pr\n",
    "\n",
    "pd.set_option('display.max_rows',     1000)\n",
    "pd.set_option('display.max_columns',  1000)\n",
    "\n",
    "warnings.filterwarnings('ignore')\n",
    "\n",
    "#read configuration file\n",
    "config          = pr.load_config()\n",
    "include         = list(dict.fromkeys(config.include.model + config.include.metrics))\n",
    "autocancel_file = config.data.raw.dir + '/' + config.data.raw.name.auto_cancel + '.zip'\n",
    "completed_file  = config.data.raw.dir + '/' + config.data.raw.name.completed   + '.zip'\n",
    "all_file        = config.data.raw.dir + '/' + config.data.raw.name.all         + '.zip'"
   ]
  },
  {
   "cell_type": "code",
   "execution_count": 4,
   "metadata": {
    "execution": {
     "iopub.execute_input": "2022-06-27T22:20:03.462508Z",
     "iopub.status.busy": "2022-06-27T22:20:03.462324Z",
     "iopub.status.idle": "2022-06-27T22:20:03.498775Z",
     "shell.execute_reply": "2022-06-27T22:20:03.498056Z",
     "shell.execute_reply.started": "2022-06-27T22:20:03.462485Z"
    }
   },
   "outputs": [],
   "source": [
    "#drop the unnecessary columns \n",
    "def drop_columns(df):\n",
    "    # Remove unecesary fields\n",
    "    exclude = [i for i in df.columns \n",
    "                   if i.endswith('_1') or \n",
    "                      i.startswith('dt') or\n",
    "                      i.startswith('int') or\n",
    "                      i.startswith('dec') or\n",
    "                      re.match('^char\\d.*', i)] + \\\n",
    "              [i for i in config.exclude \n",
    "                   if i in df.columns and \n",
    "                      i not in include]\n",
    "\n",
    "    return df.drop(exclude, axis=1)\n",
    "\n",
    "# returns the merged sf21 score from tahoe\n",
    "def get_sf21(data):\n",
    "    subset            = data[['send_xfer_id', 'model2_xoom21_sf_domestic_score']].copy()\n",
    "    subset.columns    = ['send_xfer_id', 'sf_score']\n",
    "    merge             = subset.merge(sf21, on='send_xfer_id', how='left')\n",
    "    merge['sf_score'] = merge['sf_score'].replace('None', np.nan)\n",
    "    \n",
    "    return merge['sf_score'].combine_first(merge['xm_sf_21_releasev0_model_score1'])\n",
    "\n",
    "#save the dataframe to a csv in raw format\n",
    "def save_data(file, data, drop_columns=True):\n",
    "    #drop unecesary features with specific pattern in the name\n",
    "    if drop_columns:\n",
    "        data = drop_columns(data)\n",
    "        \n",
    "    #merge the sf21 score and segment from other dataset\n",
    "    data['model2_xoom21_sf_domestic_score'] = get_sf21(data)\n",
    "    \n",
    "    #save autocancel data to csv\n",
    "    data.to_csv(file, index=False, compression='xz')"
   ]
  },
  {
   "cell_type": "markdown",
   "metadata": {
    "execution": {
     "iopub.execute_input": "2022-05-27T20:55:50.618091Z",
     "iopub.status.busy": "2022-05-27T20:55:50.617473Z",
     "iopub.status.idle": "2022-05-27T20:55:53.844522Z",
     "shell.execute_reply": "2022-05-27T20:55:53.842720Z",
     "shell.execute_reply.started": "2022-05-27T20:55:50.618019Z"
    }
   },
   "source": [
    "---\n",
    "\n",
    "### 1. Retriving data for auto-canceled population\n",
    "\n",
    "Query the BQ database"
   ]
  },
  {
   "cell_type": "code",
   "execution_count": 5,
   "metadata": {
    "execution": {
     "iopub.execute_input": "2022-06-27T22:20:03.499850Z",
     "iopub.status.busy": "2022-06-27T22:20:03.499698Z",
     "iopub.status.idle": "2022-06-27T22:27:10.518505Z",
     "shell.execute_reply": "2022-06-27T22:27:10.511725Z",
     "shell.execute_reply.started": "2022-06-27T22:20:03.499831Z"
    }
   },
   "outputs": [
    {
     "name": "stdout",
     "output_type": "stream",
     "text": [
      "Establishing new BigQuery Client\n"
     ]
    },
    {
     "data": {
      "application/vnd.jupyter.widget-view+json": {
       "model_id": "7cdb82a9e9874b4ba60b18137bc9e493",
       "version_major": 2,
       "version_minor": 0
      },
      "text/plain": [
       "HTML(value='')"
      ]
     },
     "metadata": {},
     "output_type": "display_data"
    },
    {
     "name": "stdout",
     "output_type": "stream",
     "text": [
      "job id =  ii1mn4dHja10VWdEeAR9cHmJtFQ\n",
      "Time executed =  -63791965275.443  seconds\n",
      ".........................."
     ]
    },
    {
     "data": {
      "application/vnd.jupyter.widget-view+json": {
       "model_id": "89ee61e412ae4bfa8426e4ad4731378b",
       "version_major": 2,
       "version_minor": 0
      },
      "text/plain": [
       "HTML(value='')"
      ]
     },
     "metadata": {},
     "output_type": "display_data"
    },
    {
     "data": {
      "text/plain": [
       "(25374, 913)"
      ]
     },
     "execution_count": 5,
     "metadata": {},
     "output_type": "execute_result"
    }
   ],
   "source": [
    "data = %ppbq \\\n",
    "SELECT  IF(uds.ctrl_is_cg = 1, uds.is_bad = 0, uds.is_fraud = false) AS target, \\\n",
    "        CASE WHEN uds.payment_type=4 THEN 'S0' \\\n",
    "             WHEN (uds.sender_trust_level=1 or uds.sender_trust_level=2 or uds.sender_trust_level=5) THEN 'S01_Trusted' \\\n",
    "             WHEN uds.is_first_transaction_for_sender=1 and uds.send_funding_wallet_type=\"XOOM\" THEN 'S02_XmWall_1st' \\\n",
    "             WHEN uds.is_first_transaction_for_sender=1 and uds.send_funding_wallet_type=\"PAYPAL\" and uds.login_paypal_xsell_accountage<=365 THEN 'S03_PpWall_PpYng365_Xm1st' \\\n",
    "             WHEN uds.is_first_transaction_for_sender=1 and uds.send_funding_wallet_type=\"PAYPAL\" and uds.login_paypal_xsell_accountage>365 THEN \"S04_PpWall_PpRU365_Xm1st\" \\\n",
    "             WHEN uds.accountage=0 and uds.is_first_transaction_for_sender = 0 THEN 'S05_XmYng0_Fq' \\\n",
    "             WHEN uds.accountage>0 and uds.accountage<=90 and (uds.sender_limit_transaction_count_7_day>2 or uds.sender_limit_amount_total_7_day>=5000) THEN 'S06_XmYng1_90_HFq2' \\\n",
    "             WHEN uds.accountage>0 and uds.accountage<=90 and (uds.sender_limit_transaction_count_7_day>1 or uds.sender_limit_amount_total_7_day>=3000) THEN 'S07_XmYng0_90_MFq1' \\\n",
    "             WHEN uds.accountage>0 and uds.accountage<=90 THEN 'S08_XmYng0_90_LFq1' \\\n",
    "             WHEN uds.accountage>90 and uds.days_since_payment_source_added_to_uid<=7 THEN \"S09_XmRU90_PsYng7\" \\\n",
    "             WHEN uds.accountage>90 and (uds.sender_limit_transaction_count_7_day>2 or uds.sender_limit_amount_total_7_day/uds.sender_limit_amount_total_180_day>0.5) THEN \"S10_XmRU90_HFq2_HEG\" \\\n",
    "             WHEN uds.accountage>90 and (uds.sender_limit_transaction_count_7_day<=2 and uds.sender_limit_amount_total_7_day/uds.sender_limit_amount_total_180_day<=0.5) THEN \"S11_XmRU90_LFq2_LEG\" \\\n",
    "        ELSE \"S0\" end as xss_xoom_sf_segment2, \\\n",
    "        uds.*, ss.* \\\n",
    "    FROM pypl-bods.pp_risk_rap_xoom_managed_views.xoom_unified_dataset uds \\\n",
    "    INNER JOIN pypl-bods.pp_risk_rap_xoom_managed_views.xoom_signals ss \\\n",
    "    USING (send_xfer_id) \\\n",
    "        WHERE uds.created BETWEEN \"2022-01-15\" AND \"2022-05-31\" \\\n",
    "        AND uds.year = 2022 \\\n",
    "        AND uds.is_domestic = 1 \\\n",
    "        AND uds.is_first_transaction_for_sender = 1 \\\n",
    "        AND uds.payment_type = 1 \\\n",
    "        AND (uds.fraud_decision = \"Auto Cancel\" \\\n",
    "             OR (uds.xss_xoom_native_joint_decision = \"JT-Cancel\" AND uds.ctrl_is_cg = 1))\n",
    "\n",
    "autocancel = data.DataFrame()\n",
    "autocancel.shape"
   ]
  },
  {
   "cell_type": "markdown",
   "metadata": {
    "execution": {
     "iopub.execute_input": "2022-05-27T20:55:50.618091Z",
     "iopub.status.busy": "2022-05-27T20:55:50.617473Z",
     "iopub.status.idle": "2022-05-27T20:55:53.844522Z",
     "shell.execute_reply": "2022-05-27T20:55:53.842720Z",
     "shell.execute_reply.started": "2022-05-27T20:55:50.618019Z"
    }
   },
   "source": [
    "---\n",
    "\n",
    "### 2. Retriving data for completed transactions population (latest_status = 700)\n",
    "\n",
    "Query the BQ database"
   ]
  },
  {
   "cell_type": "code",
   "execution_count": 6,
   "metadata": {
    "execution": {
     "iopub.execute_input": "2022-06-27T22:27:10.521420Z",
     "iopub.status.busy": "2022-06-27T22:27:10.521240Z",
     "iopub.status.idle": "2022-06-27T22:46:54.490754Z",
     "shell.execute_reply": "2022-06-27T22:46:54.489878Z",
     "shell.execute_reply.started": "2022-06-27T22:27:10.521398Z"
    }
   },
   "outputs": [
    {
     "data": {
      "application/vnd.jupyter.widget-view+json": {
       "model_id": "7bc73a4813134685868719321264c7d4",
       "version_major": 2,
       "version_minor": 0
      },
      "text/plain": [
       "HTML(value='')"
      ]
     },
     "metadata": {},
     "output_type": "display_data"
    },
    {
     "name": "stdout",
     "output_type": "stream",
     "text": [
      "job id =  GcPKRJL8CDZ21g6gwRLDLjqYAdD\n",
      "Time executed =  -63791965698.328  seconds\n",
      "......................................................................................"
     ]
    },
    {
     "data": {
      "application/vnd.jupyter.widget-view+json": {
       "model_id": "d7e286705c624ac0aef6756fb76ca7d2",
       "version_major": 2,
       "version_minor": 0
      },
      "text/plain": [
       "HTML(value='')"
      ]
     },
     "metadata": {},
     "output_type": "display_data"
    },
    {
     "data": {
      "text/plain": [
       "(85392, 913)"
      ]
     },
     "execution_count": 6,
     "metadata": {},
     "output_type": "execute_result"
    }
   ],
   "source": [
    "data = %ppbq \\\n",
    "SELECT  IF(uds.ctrl_is_cg = 1, uds.is_bad = 0, uds.is_fraud = false) AS target, \\\n",
    "        CASE WHEN uds.payment_type=4 THEN 'S0' \\\n",
    "             WHEN (uds.sender_trust_level=1 or uds.sender_trust_level=2 or uds.sender_trust_level=5) THEN 'S01_Trusted' \\\n",
    "             WHEN uds.is_first_transaction_for_sender=1 and uds.send_funding_wallet_type=\"XOOM\" THEN 'S02_XmWall_1st' \\\n",
    "             WHEN uds.is_first_transaction_for_sender=1 and uds.send_funding_wallet_type=\"PAYPAL\" and uds.login_paypal_xsell_accountage<=365 THEN 'S03_PpWall_PpYng365_Xm1st' \\\n",
    "             WHEN uds.is_first_transaction_for_sender=1 and uds.send_funding_wallet_type=\"PAYPAL\" and uds.login_paypal_xsell_accountage>365 THEN \"S04_PpWall_PpRU365_Xm1st\" \\\n",
    "             WHEN uds.accountage=0 and uds.is_first_transaction_for_sender = 0 THEN 'S05_XmYng0_Fq' \\\n",
    "             WHEN uds.accountage>0 and uds.accountage<=90 and (uds.sender_limit_transaction_count_7_day>2 or uds.sender_limit_amount_total_7_day>=5000) THEN 'S06_XmYng1_90_HFq2' \\\n",
    "             WHEN uds.accountage>0 and uds.accountage<=90 and (uds.sender_limit_transaction_count_7_day>1 or uds.sender_limit_amount_total_7_day>=3000) THEN 'S07_XmYng0_90_MFq1' \\\n",
    "             WHEN uds.accountage>0 and uds.accountage<=90 THEN 'S08_XmYng0_90_LFq1' \\\n",
    "             WHEN uds.accountage>90 and uds.days_since_payment_source_added_to_uid<=7 THEN \"S09_XmRU90_PsYng7\" \\\n",
    "             WHEN uds.accountage>90 and (uds.sender_limit_transaction_count_7_day>2 or uds.sender_limit_amount_total_7_day/uds.sender_limit_amount_total_180_day>0.5) THEN \"S10_XmRU90_HFq2_HEG\" \\\n",
    "             WHEN uds.accountage>90 and (uds.sender_limit_transaction_count_7_day<=2 and uds.sender_limit_amount_total_7_day/uds.sender_limit_amount_total_180_day<=0.5) THEN \"S11_XmRU90_LFq2_LEG\" \\\n",
    "        ELSE \"S0\" end as xss_xoom_sf_segment2, \\\n",
    "        uds.*, ss.* \\\n",
    "    FROM pypl-bods.pp_risk_rap_xoom_managed_views.xoom_unified_dataset uds \\\n",
    "    INNER JOIN pypl-bods.pp_risk_rap_xoom_managed_views.xoom_signals ss \\\n",
    "    USING (send_xfer_id) \\\n",
    "        WHERE uds.created BETWEEN \"2022-01-15\" AND \"2022-05-31\" \\\n",
    "        AND uds.year = 2022 \\\n",
    "        AND uds.is_domestic = 1 \\\n",
    "        AND uds.is_first_transaction_for_sender = 1 \\\n",
    "        AND uds.payment_type = 1 \\\n",
    "        AND (uds.latest_status = 700 OR (uds.fraud_agent_decision='Cancel' AND uds.is_fraud=True))\n",
    "\n",
    "completed = data.DataFrame()\n",
    "completed.shape"
   ]
  },
  {
   "cell_type": "markdown",
   "metadata": {
    "execution": {
     "iopub.execute_input": "2022-05-27T20:55:50.618091Z",
     "iopub.status.busy": "2022-05-27T20:55:50.617473Z",
     "iopub.status.idle": "2022-05-27T20:55:53.844522Z",
     "shell.execute_reply": "2022-05-27T20:55:53.842720Z",
     "shell.execute_reply.started": "2022-05-27T20:55:50.618019Z"
    }
   },
   "source": [
    "---\n",
    "\n",
    "### 3. Retriving data for all transactions population (domestic, first trans for sender and credit card)\n",
    "\n",
    "Query the BQ database"
   ]
  },
  {
   "cell_type": "code",
   "execution_count": 7,
   "metadata": {
    "execution": {
     "iopub.execute_input": "2022-06-27T22:46:54.492113Z",
     "iopub.status.busy": "2022-06-27T22:46:54.491929Z",
     "iopub.status.idle": "2022-06-27T23:15:31.674877Z",
     "shell.execute_reply": "2022-06-27T23:15:31.673922Z",
     "shell.execute_reply.started": "2022-06-27T22:46:54.492083Z"
    }
   },
   "outputs": [
    {
     "data": {
      "application/vnd.jupyter.widget-view+json": {
       "model_id": "6367ee6086ea4e9fae230ad7aaee5c3f",
       "version_major": 2,
       "version_minor": 0
      },
      "text/plain": [
       "HTML(value='')"
      ]
     },
     "metadata": {},
     "output_type": "display_data"
    },
    {
     "name": "stdout",
     "output_type": "stream",
     "text": [
      "job id =  Y7BteRA4nE8IC50jP8VyXfeSpJh\n",
      "Time executed =  -63791966881.41  seconds\n",
      "..........................................................................................................................."
     ]
    },
    {
     "data": {
      "application/vnd.jupyter.widget-view+json": {
       "model_id": "62b9c1939d1c4130be6f96c6ffe78ee8",
       "version_major": 2,
       "version_minor": 0
      },
      "text/plain": [
       "HTML(value='')"
      ]
     },
     "metadata": {},
     "output_type": "display_data"
    },
    {
     "data": {
      "text/plain": [
       "(122915, 913)"
      ]
     },
     "execution_count": 7,
     "metadata": {},
     "output_type": "execute_result"
    }
   ],
   "source": [
    "data = %ppbq \\\n",
    "SELECT  IF(uds.ctrl_is_cg = 1, uds.is_bad = 0, uds.is_fraud = false) AS target, \\\n",
    "        CASE WHEN uds.payment_type=4 THEN 'S0' \\\n",
    "             WHEN (uds.sender_trust_level=1 or uds.sender_trust_level=2 or uds.sender_trust_level=5) THEN 'S01_Trusted' \\\n",
    "             WHEN uds.is_first_transaction_for_sender=1 and uds.send_funding_wallet_type=\"XOOM\" THEN 'S02_XmWall_1st' \\\n",
    "             WHEN uds.is_first_transaction_for_sender=1 and uds.send_funding_wallet_type=\"PAYPAL\" and uds.login_paypal_xsell_accountage<=365 THEN 'S03_PpWall_PpYng365_Xm1st' \\\n",
    "             WHEN uds.is_first_transaction_for_sender=1 and uds.send_funding_wallet_type=\"PAYPAL\" and uds.login_paypal_xsell_accountage>365 THEN \"S04_PpWall_PpRU365_Xm1st\" \\\n",
    "             WHEN uds.accountage=0 and uds.is_first_transaction_for_sender = 0 THEN 'S05_XmYng0_Fq' \\\n",
    "             WHEN uds.accountage>0 and uds.accountage<=90 and (uds.sender_limit_transaction_count_7_day>2 or uds.sender_limit_amount_total_7_day>=5000) THEN 'S06_XmYng1_90_HFq2' \\\n",
    "             WHEN uds.accountage>0 and uds.accountage<=90 and (uds.sender_limit_transaction_count_7_day>1 or uds.sender_limit_amount_total_7_day>=3000) THEN 'S07_XmYng0_90_MFq1' \\\n",
    "             WHEN uds.accountage>0 and uds.accountage<=90 THEN 'S08_XmYng0_90_LFq1' \\\n",
    "             WHEN uds.accountage>90 and uds.days_since_payment_source_added_to_uid<=7 THEN \"S09_XmRU90_PsYng7\" \\\n",
    "             WHEN uds.accountage>90 and (uds.sender_limit_transaction_count_7_day>2 or uds.sender_limit_amount_total_7_day/uds.sender_limit_amount_total_180_day>0.5) THEN \"S10_XmRU90_HFq2_HEG\" \\\n",
    "             WHEN uds.accountage>90 and (uds.sender_limit_transaction_count_7_day<=2 and uds.sender_limit_amount_total_7_day/uds.sender_limit_amount_total_180_day<=0.5) THEN \"S11_XmRU90_LFq2_LEG\" \\\n",
    "        ELSE \"S0\" end as xss_xoom_sf_segment2, \\\n",
    "        uds.*, ss.* \\\n",
    "    FROM pypl-bods.pp_risk_rap_xoom_managed_views.xoom_unified_dataset uds \\\n",
    "    INNER JOIN pypl-bods.pp_risk_rap_xoom_managed_views.xoom_signals ss \\\n",
    "    USING (send_xfer_id) \\\n",
    "        WHERE uds.created BETWEEN \"2022-01-15\" AND \"2022-05-31\" \\\n",
    "        AND uds.year = 2022 \\\n",
    "        AND uds.is_domestic = 1 \\\n",
    "        AND uds.is_first_transaction_for_sender = 1 \\\n",
    "        AND uds.payment_type = 1\n",
    "\n",
    "_all = data.DataFrame()\n",
    "_all.shape"
   ]
  },
  {
   "cell_type": "markdown",
   "metadata": {
    "execution": {
     "iopub.execute_input": "2022-05-27T20:55:50.618091Z",
     "iopub.status.busy": "2022-05-27T20:55:50.617473Z",
     "iopub.status.idle": "2022-05-27T20:55:53.844522Z",
     "shell.execute_reply": "2022-05-27T20:55:53.842720Z",
     "shell.execute_reply.started": "2022-05-27T20:55:50.618019Z"
    }
   },
   "source": [
    "---\n",
    "\n",
    "### 4. Retriving data SF_21 score Jan-May 2022\n",
    "\n",
    "Query the Hive database"
   ]
  },
  {
   "cell_type": "code",
   "execution_count": 8,
   "metadata": {
    "execution": {
     "iopub.execute_input": "2022-06-27T23:15:31.676124Z",
     "iopub.status.busy": "2022-06-27T23:15:31.675947Z",
     "iopub.status.idle": "2022-06-27T23:24:05.477447Z",
     "shell.execute_reply": "2022-06-27T23:24:05.476375Z",
     "shell.execute_reply.started": "2022-06-27T23:15:31.676095Z"
    }
   },
   "outputs": [
    {
     "data": {
      "application/vnd.jupyter.widget-view+json": {
       "model_id": "2d30599bfd05455c888f1a20046cee1b",
       "version_major": 2,
       "version_minor": 0
      },
      "text/plain": [
       "HTML(value='')"
      ]
     },
     "metadata": {},
     "output_type": "display_data"
    },
    {
     "data": {
      "application/vnd.jupyter.widget-view+json": {
       "model_id": "4baa15ab190b4532a8349695e7ab54a0",
       "version_major": 2,
       "version_minor": 0
      },
      "text/plain": [
       "HTML(value='')"
      ]
     },
     "metadata": {},
     "output_type": "display_data"
    },
    {
     "data": {
      "application/vnd.jupyter.widget-view+json": {
       "model_id": "31fdcaabd3be4ca8b9bd3c5579409adf",
       "version_major": 2,
       "version_minor": 0
      },
      "text/plain": [
       "HTML(value='')"
      ]
     },
     "metadata": {},
     "output_type": "display_data"
    },
    {
     "data": {
      "text/plain": [
       "(1295209, 2)"
      ]
     },
     "execution_count": 8,
     "metadata": {},
     "output_type": "execute_result"
    }
   ],
   "source": [
    "data = %hive_tahoe \\\n",
    "SELECT  send_xfer_id, \\\n",
    "        xm_sf_21_releasev0_model_score1 \\\n",
    "    FROM xoom_SF21_driverset0618 sf21 \\\n",
    "        WHERE sf21.year = 2022 \\\n",
    "\n",
    "sf21 = data.DataFrame()\n",
    "sf21.shape"
   ]
  },
  {
   "cell_type": "markdown",
   "metadata": {
    "execution": {
     "iopub.execute_input": "2022-05-27T20:55:50.618091Z",
     "iopub.status.busy": "2022-05-27T20:55:50.617473Z",
     "iopub.status.idle": "2022-05-27T20:55:53.844522Z",
     "shell.execute_reply": "2022-05-27T20:55:53.842720Z",
     "shell.execute_reply.started": "2022-05-27T20:55:50.618019Z"
    }
   },
   "source": [
    "---\n",
    "\n",
    "### 5. Saving data to the project\n",
    "\n",
    "Removing columns that are not going to be used and export data to zipped csv"
   ]
  },
  {
   "cell_type": "code",
   "execution_count": 9,
   "metadata": {
    "execution": {
     "iopub.execute_input": "2022-06-27T23:24:05.479965Z",
     "iopub.status.busy": "2022-06-27T23:24:05.479797Z",
     "iopub.status.idle": "2022-06-27T23:33:43.568435Z",
     "shell.execute_reply": "2022-06-27T23:33:43.566956Z",
     "shell.execute_reply.started": "2022-06-27T23:24:05.479943Z"
    }
   },
   "outputs": [],
   "source": [
    "save_data(all_file, _all, drop_columns=False)\n",
    "save_data(completed_file, completed, drop_columns=False)\n",
    "save_data(autocancel_file, autocancel, drop_columns=False)"
   ]
  },
  {
   "cell_type": "markdown",
   "metadata": {},
   "source": [
    "Cleaning the data"
   ]
  },
  {
   "cell_type": "code",
   "execution_count": 10,
   "metadata": {
    "execution": {
     "iopub.execute_input": "2022-06-27T23:33:43.570722Z",
     "iopub.status.busy": "2022-06-27T23:33:43.570394Z",
     "iopub.status.idle": "2022-06-27T23:33:43.626883Z",
     "shell.execute_reply": "2022-06-27T23:33:43.625998Z",
     "shell.execute_reply.started": "2022-06-27T23:33:43.570680Z"
    }
   },
   "outputs": [],
   "source": [
    "#import gc\n",
    "\n",
    "#del [[data]]\n",
    "#gc.collect()"
   ]
  }
 ],
 "metadata": {
  "kernelspec": {
   "display_name": "Python3",
   "language": "python",
   "name": "Python3"
  },
  "language_info": {
   "codemirror_mode": {
    "name": "ipython",
    "version": 3
   },
   "file_extension": ".py",
   "mimetype": "text/x-python",
   "name": "python",
   "nbconvert_exporter": "python",
   "pygments_lexer": "ipython3",
   "version": "3.5.2"
  }
 },
 "nbformat": 4,
 "nbformat_minor": 4
}
